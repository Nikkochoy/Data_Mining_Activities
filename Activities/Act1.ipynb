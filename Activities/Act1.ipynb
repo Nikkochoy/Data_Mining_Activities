{
 "cells": [
  {
   "cell_type": "markdown",
   "id": "6a81415d",
   "metadata": {},
   "source": [
    "### Midterm Activity 1\n",
    "Feature Selection <br>\n",
    "Due Date: June 21, 2025\n",
    "\n",
    "Objectives:\n",
    "1. Discuss the importance of feature selection.\n",
    "2. Implement the different techniques of feature selection."
   ]
  },
  {
   "cell_type": "markdown",
   "id": "4cac6d3a",
   "metadata": {},
   "source": [
    "II. Classification Model Development\n",
    "1. Create a Naive Bayes classification model for the glass.csv dataset. The glass dataset contains\n",
    "    information about the chemical composition of the different types of glass used in different industries.\n",
    "    The glass type is classified according to the following:\n",
    "    \n",
    "    Type of glass: (class attribute)\n",
    "    \n",
    "        1 - building_windows_float_processed\n",
    "        2 - building_windows_non_float_processed\n",
    "        3 - vehicle_windows_float_processed\n",
    "        4 - vehicle_windows_non_float_processed (none in this database)\n",
    "        5 - containers\n",
    "        6 - tableware\n",
    "        7 - headlamps"
   ]
  },
  {
   "cell_type": "code",
   "execution_count": null,
   "id": "4b752428",
   "metadata": {
    "vscode": {
     "languageId": "plaintext"
    }
   },
   "outputs": [],
   "source": []
  },
  {
   "cell_type": "markdown",
   "id": "ad2474ef",
   "metadata": {},
   "source": [
    "2. Ensure that the steps in developing a model must be presented in your Python scripts. These include the\n",
    "    following\n",
    "    \n",
    "        A. Data Exploration"
   ]
  },
  {
   "cell_type": "code",
   "execution_count": null,
   "id": "2ce81cbd",
   "metadata": {
    "vscode": {
     "languageId": "plaintext"
    }
   },
   "outputs": [],
   "source": []
  },
  {
   "cell_type": "markdown",
   "id": "212ec0b9",
   "metadata": {},
   "source": [
    "    B. Data Preprocessing"
   ]
  },
  {
   "cell_type": "code",
   "execution_count": null,
   "id": "c14992cc",
   "metadata": {
    "vscode": {
     "languageId": "plaintext"
    }
   },
   "outputs": [],
   "source": []
  },
  {
   "cell_type": "markdown",
   "id": "670ec57c",
   "metadata": {},
   "source": [
    "    C. Developing the Model"
   ]
  },
  {
   "cell_type": "code",
   "execution_count": null,
   "id": "d6966f6e",
   "metadata": {
    "vscode": {
     "languageId": "plaintext"
    }
   },
   "outputs": [],
   "source": []
  },
  {
   "cell_type": "markdown",
   "id": "79b94a7e",
   "metadata": {},
   "source": [
    "3. Determine the top 5 features for the given dataset using the following feature selection techniques:\n",
    "\n",
    "        A. Univariate Selection"
   ]
  },
  {
   "cell_type": "code",
   "execution_count": null,
   "id": "f245a523",
   "metadata": {
    "vscode": {
     "languageId": "plaintext"
    }
   },
   "outputs": [],
   "source": []
  },
  {
   "cell_type": "markdown",
   "id": "435561f5",
   "metadata": {},
   "source": [
    "    B. Feature Importance"
   ]
  },
  {
   "cell_type": "code",
   "execution_count": null,
   "id": "0629cbfc",
   "metadata": {
    "vscode": {
     "languageId": "plaintext"
    }
   },
   "outputs": [],
   "source": []
  },
  {
   "cell_type": "markdown",
   "id": "3ee4490d",
   "metadata": {},
   "source": [
    "    C. Correlation"
   ]
  },
  {
   "cell_type": "code",
   "execution_count": null,
   "id": "60792df5",
   "metadata": {
    "vscode": {
     "languageId": "plaintext"
    }
   },
   "outputs": [],
   "source": []
  },
  {
   "cell_type": "markdown",
   "id": "3dc16dac",
   "metadata": {},
   "source": [
    "4. Evaluating the model\n",
    "\n",
    "        a. Use the appropriate performance metrics to evaluate the developed models.\n",
    "        b. To assess the constructed model's performance, use 8-fold cross validation with a 80%–20% split between training and test data. For uniformity of results, use seed = 10."
   ]
  }
 ],
 "metadata": {
  "language_info": {
   "name": "python"
  }
 },
 "nbformat": 4,
 "nbformat_minor": 5
}
