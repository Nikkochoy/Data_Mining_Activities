{
 "cells": [
  {
   "cell_type": "markdown",
   "id": "379ab99a",
   "metadata": {},
   "source": [
    "### Midterm Activity 2\n",
    "Principal Component Analysis (PCA) <br>\n",
    "Due Date: June 21, 2025\n",
    "\n",
    "Objectives:\n",
    "1. Apply Principal Component Analysis (PCA) as a method to reduce features of a high\n",
    "dimensional dataset.\n",
    "2. Discuss the benefits of using PCA."
   ]
  },
  {
   "cell_type": "markdown",
   "id": "b3514c63",
   "metadata": {},
   "source": [
    "##### Classification Model Development\n",
    "Using the same dataset (glass.csv) from the previous activity, classify the dataset using the minimum <br>\n",
    "number of principal components having at least 90% representation of the dataset.<br> Present the performance of the model with complete attributes and with the chosen components."
   ]
  },
  {
   "cell_type": "markdown",
   "id": "fcb8ed56",
   "metadata": {},
   "source": [
    "1. Data exploration and preprocessing\n",
    "<br> - Data cleaning, data transformation and other data\n",
    "preprocessing techniques as deemed necessary"
   ]
  },
  {
   "cell_type": "code",
   "execution_count": null,
   "id": "6610973e",
   "metadata": {
    "vscode": {
     "languageId": "plaintext"
    }
   },
   "outputs": [],
   "source": []
  },
  {
   "cell_type": "markdown",
   "id": "ad4d67f2",
   "metadata": {},
   "source": [
    "2. Model Development\n",
    "    <br> - For the model development, compare the performance of the classification model with all\n",
    "features/attributes and with a reduced dataset using PCA."
   ]
  },
  {
   "cell_type": "code",
   "execution_count": null,
   "id": "085ed852",
   "metadata": {
    "vscode": {
     "languageId": "plaintext"
    }
   },
   "outputs": [],
   "source": []
  },
  {
   "cell_type": "markdown",
   "id": "e6a52bc7",
   "metadata": {},
   "source": [
    "3. Model Evaluation\n",
    "<br>\n",
    "● Use the appropriate performance metrics to evaluate the developed models. <br>\n",
    "● To assess the constructed model's performance, use 8-fold cross validation with a 80%–20%\n",
    "split between training and test data."
   ]
  },
  {
   "cell_type": "code",
   "execution_count": null,
   "id": "277155d8",
   "metadata": {
    "vscode": {
     "languageId": "plaintext"
    }
   },
   "outputs": [],
   "source": []
  }
 ],
 "metadata": {
  "language_info": {
   "name": "python"
  }
 },
 "nbformat": 4,
 "nbformat_minor": 5
}
